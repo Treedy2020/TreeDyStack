{
 "cells": [
  {
   "cell_type": "code",
   "execution_count": 2,
   "metadata": {},
   "outputs": [
    {
     "name": "stderr",
     "output_type": "stream",
     "text": [
      "/Users/cuiyaodong/opt/miniconda3/envs/Taitanic/lib/python3.10/site-packages/tqdm/auto.py:22: TqdmWarning: IProgress not found. Please update jupyter and ipywidgets. See https://ipywidgets.readthedocs.io/en/stable/user_install.html\n",
      "  from .autonotebook import tqdm as notebook_tqdm\n"
     ]
    }
   ],
   "source": [
    "import os\n",
    "import torch\n",
    "import torch.nn as nn\n",
    "import tempfile\n",
    "import torch.distributed as dist\n",
    "import torch.optim as optim\n",
    "import torch.multiprocessing as mp\n",
    "from torch.nn.parallel import DistributedDataParallel as DDP"
   ]
  },
  {
   "cell_type": "code",
   "execution_count": 3,
   "metadata": {},
   "outputs": [
    {
     "name": "stdout",
     "output_type": "stream",
     "text": [
      "COMMAND_MODE unix2003\n",
      "CONDA_DEFAULT_ENV Taitanic\n",
      "CONDA_EXE /Users/cuiyaodong/opt/miniconda3/bin/conda\n",
      "CONDA_PREFIX /Users/cuiyaodong/opt/miniconda3/envs/Taitanic\n",
      "CONDA_PROMPT_MODIFIER (Taitanic) \n",
      "CONDA_PYTHON_EXE /Users/cuiyaodong/opt/miniconda3/bin/python\n",
      "CONDA_SHLVL 2\n",
      "HOME /Users/cuiyaodong\n",
      "HOMEBREW_CELLAR /opt/homebrew/Cellar\n",
      "HOMEBREW_PREFIX /opt/homebrew\n",
      "HOMEBREW_REPOSITORY /opt/homebrew\n",
      "INFOPATH /opt/homebrew/share/info:\n",
      "LESS -R\n",
      "LOGNAME cuiyaodong\n",
      "LSCOLORS Gxfxcxdxbxegedabagacad\n",
      "LaunchInstanceID 49B93CDB-0AC1-4019-960B-45FE648FF010\n",
      "MANPATH /opt/homebrew/share/man::\n",
      "MallocNanoZone 0\n",
      "OLDPWD /\n",
      "ORIGINAL_XDG_CURRENT_DESKTOP undefined\n",
      "PAGER cat\n",
      "PATH /Users/cuiyaodong/opt/miniconda3/envs/Taitanic/bin:/Users/cuiyaodong/opt/miniconda3/condabin:/opt/homebrew/bin:/opt/homebrew/sbin:/usr/local/bin:/System/Cryptexes/App/usr/bin:/usr/bin:/bin:/usr/sbin:/sbin:/Library/TeX/texbin:/Library/Apple/usr/bin\n",
      "PWD /\n",
      "SECURITYSESSIONID 186b2\n",
      "SHELL /bin/zsh\n",
      "SHLVL 2\n",
      "SSH_AUTH_SOCK /private/tmp/com.apple.launchd.SjW7u3d6Vs/Listeners\n",
      "TMPDIR /var/folders/jr/vc0q7zfs5xzggr3r91xfz3g40000gn/T/\n",
      "USER cuiyaodong\n",
      "VSCODE_AMD_ENTRYPOINT vs/workbench/api/node/extensionHostProcess\n",
      "VSCODE_CODE_CACHE_PATH /Users/cuiyaodong/Library/Application Support/Code/CachedData/704ed70d4fd1c6bd6342c436f1ede30d1cff4710\n",
      "VSCODE_CRASH_REPORTER_PROCESS_TYPE extensionHost\n",
      "VSCODE_CRASH_REPORTER_SANDBOXED_HINT 1\n",
      "VSCODE_CWD /\n",
      "VSCODE_HANDLES_UNCAUGHT_ERRORS true\n",
      "VSCODE_IPC_HOOK /Users/cuiyaodong/Library/Application Support/Code/1.77-main.sock\n",
      "VSCODE_NLS_CONFIG {\"locale\":\"zh-cn\",\"osLocale\":\"zh-cn\",\"availableLanguages\":{\"*\":\"zh-cn\"},\"_languagePackId\":\"b8e8c951dd5b5f651e028f8bda5e81eb.zh-cn\",\"_translationsConfigFile\":\"/Users/cuiyaodong/Library/Application Support/Code/clp/b8e8c951dd5b5f651e028f8bda5e81eb.zh-cn/tcf.json\",\"_cacheRoot\":\"/Users/cuiyaodong/Library/Application Support/Code/clp/b8e8c951dd5b5f651e028f8bda5e81eb.zh-cn\",\"_resolvedLanguagePackCoreLocation\":\"/Users/cuiyaodong/Library/Application Support/Code/clp/b8e8c951dd5b5f651e028f8bda5e81eb.zh-cn/704ed70d4fd1c6bd6342c436f1ede30d1cff4710\",\"_corruptedFile\":\"/Users/cuiyaodong/Library/Application Support/Code/clp/b8e8c951dd5b5f651e028f8bda5e81eb.zh-cn/corrupted.info\",\"_languagePackSupport\":true}\n",
      "VSCODE_PID 627\n",
      "XPC_FLAGS 0x0\n",
      "XPC_SERVICE_NAME 0\n",
      "ZSH /Users/cuiyaodong/.oh-my-zsh\n",
      "_ /Users/cuiyaodong/opt/miniconda3/envs/Taitanic/bin/python\n",
      "__CFBundleIdentifier com.microsoft.VSCode\n",
      "__CF_USER_TEXT_ENCODING 0x1F5:0x19:0x34\n",
      "ELECTRON_RUN_AS_NODE 1\n",
      "APPLICATION_INSIGHTS_NO_DIAGNOSTIC_CHANNEL 1\n",
      "PYTHONUNBUFFERED 1\n",
      "PYTHONIOENCODING utf-8\n",
      "_CE_CONDA \n",
      "CONDA_PREFIX_1 /Users/cuiyaodong/opt/miniconda3\n",
      "CONDA_ROOT /Users/cuiyaodong/opt/miniconda3\n",
      "_CE_M \n",
      "LC_CTYPE UTF-8\n",
      "PYDEVD_IPYTHON_COMPATIBLE_DEBUGGING 1\n",
      "PYDEVD_USE_FRAME_EVAL NO\n",
      "TERM xterm-color\n",
      "CLICOLOR 1\n",
      "GIT_PAGER cat\n",
      "MPLBACKEND module://matplotlib_inline.backend_inline\n"
     ]
    }
   ],
   "source": [
    "for key, value in os.environ.items():\n",
    "    print(key, value)"
   ]
  },
  {
   "attachments": {},
   "cell_type": "markdown",
   "metadata": {},
   "source": [
    "## 基本使用"
   ]
  },
  {
   "cell_type": "code",
   "execution_count": 6,
   "metadata": {},
   "outputs": [],
   "source": [
    "# 设置环境变量并初始化进程组\n",
    "def set_up(rank, world_size):\n",
    "    # 设置环境变量 \n",
    "    os.environ['MASTER_ADDR'] = 'localhost'\n",
    "    os.environ['MASTER_PORT'] = '12345'\n",
    "    \n",
    "    # 初始化进程组\n",
    "    dist.init_process_group(backend='gloo',\n",
    "                            rank=rank,\n",
    "                            world_size=world_size)\n",
    "# 设置训练结束后的进程终止函数\n",
    "def clean_up():\n",
    "    dist.destroy_process_group()"
   ]
  },
  {
   "cell_type": "code",
   "execution_count": 7,
   "metadata": {},
   "outputs": [],
   "source": [
    "# 定义ToyModel的模型\n",
    "class ToyModel(nn.Module):\n",
    "    def __init__(self, input_size, output_size):\n",
    "        super(ToyModel, self).__init__()\n",
    "        self.net1 = nn.Linear(input_size, 10)\n",
    "        self.relu = nn.ReLU()\n",
    "        self.net2 = nn.Linear(10, output_size)\n",
    "        \n",
    "    def forward(self, x):\n",
    "        return self.net2(self.relu(self.net1(x)))"
   ]
  },
  {
   "cell_type": "code",
   "execution_count": 9,
   "metadata": {},
   "outputs": [],
   "source": [
    "# 定义训练函数，此处为多机多进程的训练\n",
    "def basic_demo(rank, world_size):\n",
    "    print('Currently is running on rank:', rank)\n",
    "    set_up(rank, world_size)\n",
    "    \n",
    "    # 定义模型并将它放置于对应的GPU上，并用DDP包装为ddp模型\n",
    "    model = ToyModel(10, 10).to(rank)\n",
    "    ddp_model = DDP(model, device_ids=[rank])\n",
    "       \n",
    "    # 定义损失函数和优化器\n",
    "    loss_fun = nn.MSELoss()\n",
    "    optimizer = optim.Adam(model.parameters(), lr=0.001)\n",
    "    \n",
    "    # 定义训练的过程\n",
    "    optimizer.zero_grad()\n",
    "    data, label = torch.randn(20, 10).to(rank), torch.randn(20, 10).to(rank)\n",
    "    loss = loss_fun(ddp_model(data), label)\n",
    "    loss.backward()\n",
    "    optimizer.step()\n",
    "    \n",
    "    clean_up()\n",
    "    \n",
    "# 采用mp.spawn进行进程的创建，并设置nprocs，join为True时默认等待所有进程结束后才继续执行\n",
    "def run_basic(demo_fn, world_size):\n",
    "    mp.spawn(fn=demo_fn,\n",
    "            nprocs=world_size,\n",
    "            args=(world_size,),\n",
    "            join=True)"
   ]
  },
  {
   "cell_type": "code",
   "execution_count": 14,
   "metadata": {},
   "outputs": [
    {
     "data": {
      "text/plain": [
       "0"
      ]
     },
     "execution_count": 14,
     "metadata": {},
     "output_type": "execute_result"
    }
   ],
   "source": [
    "torch.cuda.device_count()"
   ]
  },
  {
   "cell_type": "code",
   "execution_count": 3,
   "metadata": {},
   "outputs": [
    {
     "data": {
      "text/plain": [
       "False"
      ]
     },
     "execution_count": 3,
     "metadata": {},
     "output_type": "execute_result"
    }
   ],
   "source": [
    "torch.cuda.is_available()"
   ]
  },
  {
   "cell_type": "code",
   "execution_count": 6,
   "metadata": {},
   "outputs": [
    {
     "data": {
      "text/plain": [
       "0"
      ]
     },
     "execution_count": 6,
     "metadata": {},
     "output_type": "execute_result"
    }
   ],
   "source": [
    "torch.cuda.device_count()"
   ]
  }
 ],
 "metadata": {
  "kernelspec": {
   "display_name": "base",
   "language": "python",
   "name": "python3"
  },
  "language_info": {
   "codemirror_mode": {
    "name": "ipython",
    "version": 3
   },
   "file_extension": ".py",
   "mimetype": "text/x-python",
   "name": "python",
   "nbconvert_exporter": "python",
   "pygments_lexer": "ipython3",
   "version": "3.10.8"
  },
  "orig_nbformat": 4
 },
 "nbformat": 4,
 "nbformat_minor": 2
}
